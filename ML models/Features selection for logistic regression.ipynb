{
 "cells": [
  {
   "cell_type": "markdown",
   "metadata": {},
   "source": [
    "Importing all libraries"
   ]
  },
  {
   "cell_type": "code",
   "execution_count": 1,
   "metadata": {},
   "outputs": [],
   "source": [
    "%matplotlib inline\n",
    "import pandas as pd\n",
    "import numpy as np\n",
    "import matplotlib.pyplot as plt\n",
    "import time\n",
    "from sklearn.linear_model import LogisticRegression\n",
    "from sklearn.model_selection import train_test_split\n",
    "from sklearn.neighbors import KNeighborsClassifier\n",
    "from sklearn.model_selection import cross_val_score"
   ]
  },
  {
   "cell_type": "markdown",
   "metadata": {},
   "source": [
    "Reading data"
   ]
  },
  {
   "cell_type": "code",
   "execution_count": 17,
   "metadata": {},
   "outputs": [
    {
     "data": {
      "text/html": [
       "<div>\n",
       "<style scoped>\n",
       "    .dataframe tbody tr th:only-of-type {\n",
       "        vertical-align: middle;\n",
       "    }\n",
       "\n",
       "    .dataframe tbody tr th {\n",
       "        vertical-align: top;\n",
       "    }\n",
       "\n",
       "    .dataframe thead th {\n",
       "        text-align: right;\n",
       "    }\n",
       "</style>\n",
       "<table border=\"1\" class=\"dataframe\">\n",
       "  <thead>\n",
       "    <tr style=\"text-align: right;\">\n",
       "      <th></th>\n",
       "      <th>id</th>\n",
       "      <th>popularity</th>\n",
       "      <th>release_date</th>\n",
       "      <th>hitmiss_spotify</th>\n",
       "      <th>duration</th>\n",
       "      <th>loudness</th>\n",
       "      <th>tempo</th>\n",
       "      <th>tempo_confidence</th>\n",
       "      <th>time_signature</th>\n",
       "      <th>time_signature_confidence</th>\n",
       "      <th>...</th>\n",
       "      <th>danceability</th>\n",
       "      <th>energy</th>\n",
       "      <th>instrumentalness</th>\n",
       "      <th>liveness</th>\n",
       "      <th>speechiness</th>\n",
       "      <th>valence</th>\n",
       "      <th>chart_scraped</th>\n",
       "      <th>peak_position</th>\n",
       "      <th>weeks_on_chart</th>\n",
       "      <th>hitmiss_billboard</th>\n",
       "    </tr>\n",
       "  </thead>\n",
       "  <tbody>\n",
       "    <tr>\n",
       "      <th>0</th>\n",
       "      <td>2bezJO9Nc1yUCKTTuU1Y93</td>\n",
       "      <td>0</td>\n",
       "      <td>31/1/2014</td>\n",
       "      <td>0</td>\n",
       "      <td>140.30766</td>\n",
       "      <td>-20.350</td>\n",
       "      <td>126.790</td>\n",
       "      <td>0.752</td>\n",
       "      <td>4.0</td>\n",
       "      <td>1.000</td>\n",
       "      <td>...</td>\n",
       "      <td>0.519</td>\n",
       "      <td>0.184</td>\n",
       "      <td>0.129000</td>\n",
       "      <td>0.1140</td>\n",
       "      <td>0.0359</td>\n",
       "      <td>0.444</td>\n",
       "      <td>NaN</td>\n",
       "      <td>NaN</td>\n",
       "      <td>NaN</td>\n",
       "      <td>0</td>\n",
       "    </tr>\n",
       "    <tr>\n",
       "      <th>1</th>\n",
       "      <td>2cMAHLrkaspfMWD8QRlODb</td>\n",
       "      <td>0</td>\n",
       "      <td>30/6/2014</td>\n",
       "      <td>0</td>\n",
       "      <td>311.12154</td>\n",
       "      <td>-13.881</td>\n",
       "      <td>103.119</td>\n",
       "      <td>0.624</td>\n",
       "      <td>4.0</td>\n",
       "      <td>0.620</td>\n",
       "      <td>...</td>\n",
       "      <td>0.420</td>\n",
       "      <td>0.594</td>\n",
       "      <td>0.000003</td>\n",
       "      <td>0.1260</td>\n",
       "      <td>0.0537</td>\n",
       "      <td>0.824</td>\n",
       "      <td>NaN</td>\n",
       "      <td>NaN</td>\n",
       "      <td>NaN</td>\n",
       "      <td>0</td>\n",
       "    </tr>\n",
       "    <tr>\n",
       "      <th>2</th>\n",
       "      <td>37ENbdGJLFfkwzlpQhZtyf</td>\n",
       "      <td>0</td>\n",
       "      <td>13/6/2014</td>\n",
       "      <td>0</td>\n",
       "      <td>155.23084</td>\n",
       "      <td>-9.387</td>\n",
       "      <td>88.046</td>\n",
       "      <td>0.133</td>\n",
       "      <td>4.0</td>\n",
       "      <td>1.000</td>\n",
       "      <td>...</td>\n",
       "      <td>0.761</td>\n",
       "      <td>0.723</td>\n",
       "      <td>0.000072</td>\n",
       "      <td>0.1110</td>\n",
       "      <td>0.0472</td>\n",
       "      <td>0.810</td>\n",
       "      <td>NaN</td>\n",
       "      <td>NaN</td>\n",
       "      <td>NaN</td>\n",
       "      <td>0</td>\n",
       "    </tr>\n",
       "    <tr>\n",
       "      <th>3</th>\n",
       "      <td>3ctaMit7CuiHIPVYrRvm15</td>\n",
       "      <td>41</td>\n",
       "      <td>21/4/2014</td>\n",
       "      <td>0</td>\n",
       "      <td>325.58195</td>\n",
       "      <td>-4.549</td>\n",
       "      <td>129.969</td>\n",
       "      <td>0.798</td>\n",
       "      <td>4.0</td>\n",
       "      <td>1.000</td>\n",
       "      <td>...</td>\n",
       "      <td>0.619</td>\n",
       "      <td>0.880</td>\n",
       "      <td>0.001040</td>\n",
       "      <td>0.1660</td>\n",
       "      <td>0.0535</td>\n",
       "      <td>0.392</td>\n",
       "      <td>NaN</td>\n",
       "      <td>NaN</td>\n",
       "      <td>NaN</td>\n",
       "      <td>0</td>\n",
       "    </tr>\n",
       "    <tr>\n",
       "      <th>4</th>\n",
       "      <td>5HQp90TwnVEJ2rsABskmxI</td>\n",
       "      <td>1</td>\n",
       "      <td>20/12/2014</td>\n",
       "      <td>0</td>\n",
       "      <td>267.44866</td>\n",
       "      <td>-7.651</td>\n",
       "      <td>93.992</td>\n",
       "      <td>0.426</td>\n",
       "      <td>4.0</td>\n",
       "      <td>0.992</td>\n",
       "      <td>...</td>\n",
       "      <td>0.768</td>\n",
       "      <td>0.567</td>\n",
       "      <td>0.001160</td>\n",
       "      <td>0.0831</td>\n",
       "      <td>0.0552</td>\n",
       "      <td>0.348</td>\n",
       "      <td>NaN</td>\n",
       "      <td>NaN</td>\n",
       "      <td>NaN</td>\n",
       "      <td>0</td>\n",
       "    </tr>\n",
       "  </tbody>\n",
       "</table>\n",
       "<p>5 rows × 25 columns</p>\n",
       "</div>"
      ],
      "text/plain": [
       "                       id  popularity release_date  hitmiss_spotify  \\\n",
       "0  2bezJO9Nc1yUCKTTuU1Y93           0    31/1/2014                0   \n",
       "1  2cMAHLrkaspfMWD8QRlODb           0    30/6/2014                0   \n",
       "2  37ENbdGJLFfkwzlpQhZtyf           0    13/6/2014                0   \n",
       "3  3ctaMit7CuiHIPVYrRvm15          41    21/4/2014                0   \n",
       "4  5HQp90TwnVEJ2rsABskmxI           1   20/12/2014                0   \n",
       "\n",
       "    duration  loudness    tempo  tempo_confidence  time_signature  \\\n",
       "0  140.30766   -20.350  126.790             0.752             4.0   \n",
       "1  311.12154   -13.881  103.119             0.624             4.0   \n",
       "2  155.23084    -9.387   88.046             0.133             4.0   \n",
       "3  325.58195    -4.549  129.969             0.798             4.0   \n",
       "4  267.44866    -7.651   93.992             0.426             4.0   \n",
       "\n",
       "   time_signature_confidence  ...  danceability  energy  instrumentalness  \\\n",
       "0                      1.000  ...         0.519   0.184          0.129000   \n",
       "1                      0.620  ...         0.420   0.594          0.000003   \n",
       "2                      1.000  ...         0.761   0.723          0.000072   \n",
       "3                      1.000  ...         0.619   0.880          0.001040   \n",
       "4                      0.992  ...         0.768   0.567          0.001160   \n",
       "\n",
       "   liveness  speechiness  valence  chart_scraped  peak_position  \\\n",
       "0    0.1140       0.0359    0.444            NaN            NaN   \n",
       "1    0.1260       0.0537    0.824            NaN            NaN   \n",
       "2    0.1110       0.0472    0.810            NaN            NaN   \n",
       "3    0.1660       0.0535    0.392            NaN            NaN   \n",
       "4    0.0831       0.0552    0.348            NaN            NaN   \n",
       "\n",
       "   weeks_on_chart  hitmiss_billboard  \n",
       "0             NaN                  0  \n",
       "1             NaN                  0  \n",
       "2             NaN                  0  \n",
       "3             NaN                  0  \n",
       "4             NaN                  0  \n",
       "\n",
       "[5 rows x 25 columns]"
      ]
     },
     "execution_count": 17,
     "metadata": {},
     "output_type": "execute_result"
    }
   ],
   "source": [
    "songs_combine = pd.read_csv(\"song_features/spotifybillboard_hitmiss_2014to18.csv\")\n",
    "songs_combine.head()"
   ]
  },
  {
   "cell_type": "markdown",
   "metadata": {},
   "source": [
    "Extracting feature"
   ]
  },
  {
   "cell_type": "code",
   "execution_count": 18,
   "metadata": {},
   "outputs": [],
   "source": [
    "# define x = song features\n",
    "features_all=['duration','loudness', 'tempo','tempo_confidence','time_signature_confidence',\n",
    "                   'time_signature','key_confidence','mode_confidence',\n",
    "                   'key', 'mode', 'acousticness', 'danceability', 'energy',\n",
    "                   'instrumentalness', 'liveness', 'speechiness', 'valence']\n",
    "x=songs_combine[features_all]\n",
    "# define y = popularity\n",
    "y = songs_combine[['hitmiss_billboard']]"
   ]
  },
  {
   "cell_type": "code",
   "execution_count": 19,
   "metadata": {},
   "outputs": [],
   "source": [
    "def model_score(x):\n",
    "    # split dataset into 80% for training, 20% for testing\n",
    "    x_train, x_test, y_train, y_test = train_test_split(x, y, train_size = 0.8, test_size = 0.2, random_state = 1)\n",
    "    # create Multiple Logistic Regression model and train it using .fit()\n",
    "    predictor = LogisticRegression(solver='lbfgs',max_iter=10000)\n",
    "    predictor.fit(x_train.values, y_train.values.ravel())\n",
    "    #return score\n",
    "    return predictor.score(x_test, y_test)"
   ]
  },
  {
   "cell_type": "code",
   "execution_count": 20,
   "metadata": {},
   "outputs": [
    {
     "name": "stdout",
     "output_type": "stream",
     "text": [
      "0.7368913857677902\n",
      "1.3364779949188232\n"
     ]
    }
   ],
   "source": [
    "start = time. time()\n",
    "score = model_score(songs_combine[features_all])\n",
    "print(score)\n",
    "end = time. time()\n",
    "print(end - start)"
   ]
  },
  {
   "cell_type": "markdown",
   "metadata": {},
   "source": [
    "Selecting Best Features for traning model"
   ]
  },
  {
   "cell_type": "code",
   "execution_count": 7,
   "metadata": {
    "scrolled": true
   },
   "outputs": [],
   "source": [
    "features_combination=[]\n",
    "models_score_combination=[]\n",
    "from itertools import combinations\n",
    "for i in range(14,18):\n",
    "    comb = combinations(features_all,i)\n",
    "    for i in list(comb):\n",
    "        features_combination.append(i)\n",
    "        list_i=list(i)    \n",
    "        models_score_combination.append(model_score(songs_combine[list_i]))"
   ]
  },
  {
   "cell_type": "markdown",
   "metadata": {},
   "source": [
    "Print number of combinatiob tried."
   ]
  },
  {
   "cell_type": "code",
   "execution_count": 21,
   "metadata": {},
   "outputs": [
    {
     "name": "stdout",
     "output_type": "stream",
     "text": [
      "834\n",
      "834\n"
     ]
    }
   ],
   "source": [
    "print(len(features_combination))\n",
    "print(len(models_score_combination))"
   ]
  },
  {
   "cell_type": "markdown",
   "metadata": {},
   "source": [
    "Print model Score"
   ]
  },
  {
   "cell_type": "code",
   "execution_count": 22,
   "metadata": {},
   "outputs": [
    {
     "data": {
      "text/plain": [
       "0.7415730337078652"
      ]
     },
     "execution_count": 22,
     "metadata": {},
     "output_type": "execute_result"
    }
   ],
   "source": [
    "max(models_score_combination)"
   ]
  },
  {
   "cell_type": "markdown",
   "metadata": {},
   "source": [
    "Print Selected features"
   ]
  },
  {
   "cell_type": "code",
   "execution_count": 23,
   "metadata": {
    "scrolled": false
   },
   "outputs": [
    {
     "data": {
      "text/plain": [
       "['duration',\n",
       " 'loudness',\n",
       " 'tempo',\n",
       " 'tempo_confidence',\n",
       " 'time_signature_confidence',\n",
       " 'time_signature',\n",
       " 'mode_confidence',\n",
       " 'acousticness',\n",
       " 'danceability',\n",
       " 'energy',\n",
       " 'instrumentalness',\n",
       " 'liveness',\n",
       " 'speechiness',\n",
       " 'valence']"
      ]
     },
     "execution_count": 23,
     "metadata": {},
     "output_type": "execute_result"
    }
   ],
   "source": [
    "selected_features=list(features_combination[models_score_combination.index(max(models_score_combination))])\n",
    "selected_features"
   ]
  },
  {
   "cell_type": "markdown",
   "metadata": {},
   "source": [
    "Combining all features and printing accuracy"
   ]
  },
  {
   "cell_type": "code",
   "execution_count": 24,
   "metadata": {},
   "outputs": [],
   "source": [
    "X=songs_combine[selected_features]"
   ]
  },
  {
   "cell_type": "code",
   "execution_count": 25,
   "metadata": {},
   "outputs": [
    {
     "name": "stdout",
     "output_type": "stream",
     "text": [
      "0.7415730337078652\n"
     ]
    }
   ],
   "source": [
    "x_train, x_test, y_train, y_test = train_test_split(X, y, train_size = 0.8, test_size = 0.2, random_state = 1)\n",
    "# create Multiple Logistic Regression model and train it using .fit()\n",
    "predictor = LogisticRegression(solver='lbfgs',max_iter=10000)\n",
    "predictor.fit(x_train.values, y_train.values.ravel())\n",
    "#return score\n",
    "print(predictor.score(x_test, y_test))"
   ]
  }
 ],
 "metadata": {
  "kernelspec": {
   "display_name": "Python 3",
   "language": "python",
   "name": "python3"
  },
  "language_info": {
   "codemirror_mode": {
    "name": "ipython",
    "version": 3
   },
   "file_extension": ".py",
   "mimetype": "text/x-python",
   "name": "python",
   "nbconvert_exporter": "python",
   "pygments_lexer": "ipython3",
   "version": "3.6.4"
  }
 },
 "nbformat": 4,
 "nbformat_minor": 2
}
